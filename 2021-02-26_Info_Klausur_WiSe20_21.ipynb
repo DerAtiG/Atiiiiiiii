{
 "cells": [
  {
   "cell_type": "markdown",
   "metadata": {},
   "source": [
    "# Klausur Informatik I - Wintersemester 2020/21\n",
    "\n",
    "### Hinweise zur Bearbeitung\n",
    "Bitte bearbeiten Sie die Aufgabenstellungen direkt in diesem Jupyter Notebook. Bennenen Sie Ihr Nootebook nach dem folgenden Schema (<b>Nachname_Vorname_Matrikelnummer</b>) und reichen Sie Ihr Ergebnis am Ende der Klausur per Upload über Ihren Gruppenordner in <a href=\"https://studip.ostfalia.de/dispatch.php/course/files?cid=b1ece5bf0595cf0a34127e63bffef03f\">Stud.IP</a> ein. Tragen Sie die Lösungen jeweils in der dafür vorgesehenen Zelle unterhalb der Aufgabe ein.\n",
    "\n",
    "### Zugelassene Hilfsmittel\n",
    "Sie dürfen alle zur Verfügung stehenden Hilfsmittel (Taschenrechner, Vorlesungsunterlagen, eigenene Beispielprogramme, Internetsuchmaschinen) für das Lösen dieser Aufgabenstellungen nutzen.\n",
    "\n",
    "### Eigenständigkeitserklärung\n",
    "Mit dem Upload dieses Jupyter Notebooks versicherm Sie an Eides statt, dass Sie die unter der jeweiligen Ostalia-ID eingeloggte Person sind, also nicht die Login-Daten einer anderen Person benutzen, die Prüfungsfragen eigenständig bearbeitet haben und keine anderen als die zugelassenen Hilfsmittel verwendet haben. Ebenso versichern Sie, dass Sie sich allein im Raum befunden und für den Zeitraum der Prüfung keinen Kontakt zu anderen Personen aufgenommen haben.\n",
    "\n",
    "### Bearbeitungszeit: 60 Minuten\n",
    "Verarbeitungszeit: 5 Minuten\n",
    "______________________________________________________________________________________________________________________________________________"
   ]
  },
  {
   "cell_type": "markdown",
   "metadata": {},
   "source": [
    "### Aufgabe 1 (1 Punkt)\n",
    "Welche Art der Programmierung liegt vor, wenn der Quellcode aus einer Folge von einzelnen Anweisungen besteht?\n"
   ]
  },
  {
   "cell_type": "markdown",
   "metadata": {},
   "source": [
    "#### Antwort zu Aufgabe 1:\n",
    "\n",
    "\n",
    "\n"
   ]
  },
  {
   "cell_type": "markdown",
   "metadata": {},
   "source": [
    "### Aufgabe 2 (2,5 Punkte)\n",
    "Programmieren Sie einen Algorithmus, der die angegebene Gradzahl in das Bogenmaß umrechnet und auf dem Bildschirm ausgibt. "
   ]
  },
  {
   "cell_type": "code",
   "execution_count": null,
   "metadata": {},
   "outputs": [],
   "source": [
    "# Lösung zu Aufgabe 2:\n",
    "gradzahl = 270\n",
    "\n",
    "\n",
    "\n",
    "    \n",
    "    \n",
    "    \n",
    "    "
   ]
  },
  {
   "cell_type": "markdown",
   "metadata": {},
   "source": [
    "### Aufgabe 3 (2 Punkte)\n",
    "Wie viele Bit wären mindestens nötig, wenn Sie eine eigene Kodierung für alle Großbuchstaben des deutschen Alphabets (ohne Umlaute) entwickeln möchten?\n",
    "Begründen Sie, wie Sie auf diese Anzahl von Bits kommen.\n"
   ]
  },
  {
   "cell_type": "markdown",
   "metadata": {},
   "source": [
    "#### Antwort zu Aufgabe 3:\n",
    "\n",
    "\n",
    "\n"
   ]
  },
  {
   "cell_type": "markdown",
   "metadata": {},
   "source": [
    "### Aufgabe 4 (4 Punkte)\n",
    "Beschreiben Sie mit Ihren eigenen Worten eine Rechenvorschrift, mit deren Hilfe man die Hexadezimalzahl 0x22B in eine Dezimalzahl umwandeln kann."
   ]
  },
  {
   "cell_type": "markdown",
   "metadata": {},
   "source": [
    "#### Antwort zu Aufgabe 4:\n",
    "\n",
    "\n",
    "\n"
   ]
  },
  {
   "cell_type": "markdown",
   "metadata": {},
   "source": [
    "### Aufgabe 5 (2 Punkte)\n",
    "Sie schreiben ein Programm, in dem Sie den Nutzer zur Eingabe einer beliebigen Zahl auffordern. Was müssen Sie nach dem Einlesen dieser Zahl tun, damit Sie mit dieser Zahl korrekt rechnen können? Geben Sie Ihre Lösung in Form eines Code-Beispiels an und Begründen Sie Ihre Antwort in einem Kommentar."
   ]
  },
  {
   "cell_type": "code",
   "execution_count": null,
   "metadata": {},
   "outputs": [],
   "source": [
    "eingabe = input(\"Bitte geben Sie eine beliebige Zahl an\")\n",
    "\n",
    "#Lösung zu Aufgabe 5:\n",
    "\n",
    "\n",
    "\n"
   ]
  },
  {
   "cell_type": "markdown",
   "metadata": {},
   "source": [
    "### Aufgabe 6 (4 Punkte)\n",
    "Ergänzen Sie den folgenden Code so, dass die Zahl nur dann auf dem Bildschrirm ausgegeben wird, wenn folgende Bedingungen erfüllt sind: </p>\n",
    "die Zahl ist größer als 7 und ohne Rest durch 2 teilbar, aber nicht durch 4 teilbar</p>\n",
    "oder</p>\n",
    "die Zahl ist ein Vielfaches von 9\n"
   ]
  },
  {
   "cell_type": "code",
   "execution_count": null,
   "metadata": {},
   "outputs": [],
   "source": [
    "zahl = input(\"Bitte geben Sie eine beliebige ganze Zahl ein!\")\n",
    "\n",
    "# Lösung zur Aufgabe 6:\n",
    "\n",
    "\n",
    "\n",
    "\n"
   ]
  },
  {
   "cell_type": "markdown",
   "metadata": {},
   "source": [
    "### Aufgabe 7 (1 Punkt)\n",
    "Ein Algorithmus enthält einen Fehler, der dazu führt, dass eine Schleife dauerhaft durchlaufen wird. \n",
    "Welche wichtige Eigenschaft erfüllt dieser Algorithmus nicht?"
   ]
  },
  {
   "cell_type": "markdown",
   "metadata": {},
   "source": [
    "#### Antwort zu Aufgabe 7:\n",
    "\n",
    "\n",
    "\n"
   ]
  },
  {
   "cell_type": "markdown",
   "metadata": {},
   "source": [
    "### Aufgabe 8 (3 Punkte)\n",
    "Der folgende Code enthält einige Fehler. Markieren Sie die fehlerhaften Code-Zeilen und Geben Sie die Art des Fehlers in einem Kommentar an."
   ]
  },
  {
   "cell_type": "code",
   "execution_count": null,
   "metadata": {},
   "outputs": [],
   "source": [
    "# Lösung zu Aufgabe 8:\n",
    "\n",
    "zahl1 = 10,2  \n",
    "zahl2 = 6\n",
    "int(zahl3) = input(\"Geben Sie eine dritte Zahl ein:\")\n",
    "zahl4 = 0\n",
    "\n",
    "if(zahl3 > zahl2)\n",
    "    ergebnis = zahl2/zahl4\n",
    "\n",
    "\n"
   ]
  },
  {
   "cell_type": "markdown",
   "metadata": {},
   "source": [
    "### Aufgabe 9: (6 Punkte)\n",
    "Schreiben Sie ein Programm, welches die Zeichen des folgenden Strings in umgekehrter Reihenfolge ausgibt. <b>Nutzen Sie dazu eine for-Schleife.</b> Schreiben Sie das Programm so, dass die Zeichenumkehr für Strings beliebiger Länge funktioniert."
   ]
  },
  {
   "cell_type": "code",
   "execution_count": null,
   "metadata": {},
   "outputs": [],
   "source": [
    "# Lösung zu Aufgabe 9:\n",
    "text = \"GNILHÜRF\"\n",
    "\n",
    "\n",
    "\n",
    "\n",
    "\n"
   ]
  },
  {
   "cell_type": "markdown",
   "metadata": {},
   "source": [
    "### Aufgabe 10: (7,5 Punkte)\n",
    "Für die Bestimmung des Urlaubsanspruchs der Beschäftigten der Multimedia GmbH soll ein Programm entwickelt werden. Die Grundlage für die Berechnung des Urlaubsanspruchs bildet die Betriebsvereinbarung. Das Programm soll die Anzahl der Urlaubstage für jeweils einen Beschäftigten berechnen. Erstellen Sie einen <b>Programmablaufplan</b> für dieses Programm. </p>\n",
    "</p>\n",
    "   Betriebsvereinbarung:</p>\n",
    "   1. Allen Beschäftigten stehen 26 Tage Urlaub zu.</p>\n",
    "   2. Minderjährige Beschäftigte erhalten 30 Tage Urlaub.</p>\n",
    "   3. Beschäftigte, die älter als 55 Jahre sind, erhalten 28 Tage Urlaub.</p>\n",
    "   4. Beschäftigte mit einer Behinderung ab 50 % erhalten zusätzlich 5 weitere Tage Urlaub.</p>\n",
    "   5. Beschäftigte mit einer Betriebszugehörigkeit von mehr als 10 Jahren erhalten 2 zusätzliche Tage Urlaub.</p>"
   ]
  },
  {
   "cell_type": "markdown",
   "metadata": {},
   "source": [
    "#### Lösung zu Aufgabe 10:\n",
    "\n",
    "\n",
    "\n"
   ]
  },
  {
   "cell_type": "markdown",
   "metadata": {},
   "source": [
    "### Aufgabe 11: (9 Punkte)\n",
    "Ein Arzt hat durch seine langjährige Erfahrung festgestellt, dass ein gewisser Zusammenhang zwischen der Größe eines Menschen und seinem Gewicht besteht. Er hat dazu folgende Regeln aufgestellt:\n",
    "\n",
    "Teilt man die Größe (in m) eines Menschen durch das Quadrat seines Körpergewichtes (in kg), so erhält man einen Zahlenwert, der folgende Einordnung ermöglicht:\n",
    "<table>\n",
    "<thead>\n",
    "<tr><th>Zahlenwert Mann</th><th>Zahlenwert Frau</th><th>Eingruppierung</th></tr>\n",
    "</thead>\n",
    "<tbody>\n",
    "<tr><td> kleiner 19 </td><td>kleiner 20</td><td>Untergewicht</td></tr>\n",
    "<tr><td>19-24</td><td>20-25</td><td>normales Gewicht</td></tr>\n",
    "<tr><td>größer 24</td><td>größer 25</td><td>Übergewicht</td></tr>\n",
    "</tbody>\n",
    "</table>\n",
    "\n",
    "\n",
    "Schreiben Sie ein Programm, welches die Eingruppierung in Abhängigkeit von den Nutzereingaben Geschlecht, Größe und Gewicht ermittelt und auf dem Bildschirm ausgibt. "
   ]
  },
  {
   "cell_type": "code",
   "execution_count": null,
   "metadata": {},
   "outputs": [],
   "source": [
    "#Lösung zu Aufgabe 11:\n",
    "\n",
    "\n",
    "\n"
   ]
  },
  {
   "cell_type": "markdown",
   "metadata": {},
   "source": [
    "### Aufgabe 12: (8 Punkte) \n",
    "Vielen Menschen fällt es schwer, eine beliebig große römische Zahl in eine lateinische Zahl zu übersetzten.\n",
    "Für die Umrechnung der einzelnen Zeichen gilt folgende Regel:</p>\n",
    "I=1;V=5;X=10;L=50;C=100;D=500;M=1000</p>\n",
    "Schreiben Sie ein Programm, welches die Umrechnung einer römischen Zahl mit beliebig vielen Stellen in eine Dezimalzahl ermöglicht.Der Nutzer soll die römischen Zahl zuvor eigeben können."
   ]
  },
  {
   "cell_type": "code",
   "execution_count": null,
   "metadata": {},
   "outputs": [],
   "source": [
    "# Lösung zu Aufgabe 12:\n",
    "\n",
    "\n",
    "\n"
   ]
  },
  {
   "cell_type": "markdown",
   "metadata": {},
   "source": [
    "### Aufgabe 13 (10 Punkte)\n",
    "Da die Kopfrechenfähigkeit der Gesellschaft immer mehr abnimmt und das Handling von Kleingeld Zeit kostet, finden sich in immer mehr Geschäften Hartgeldwechsler. Diese sorgen dafür, das Rückgeld immer mit möglichst wenig Münzen ausgezahlt wird.\n",
    "Schreiben Sie für einen solchen Automaten eine Funktion, die für einen Rückgeldbetrag < 5 € die Stückelung für die kleinste Anzahl der Geldmünzen bestimmt und auf dem Bildschirm ausgibt. Die Funktion soll den zu zerlegenden Betrag als reelle Zahl übergeben bekommen.\n"
   ]
  },
  {
   "cell_type": "code",
   "execution_count": null,
   "metadata": {},
   "outputs": [],
   "source": [
    "# Lösung zu Aufgabe 13:\n",
    "\n",
    "\n",
    "\n"
   ]
  },
  {
   "cell_type": "code",
   "execution_count": null,
   "metadata": {},
   "outputs": [],
   "source": []
  }
 ],
 "metadata": {
  "kernelspec": {
   "display_name": "Python 3",
   "language": "python",
   "name": "python3"
  },
  "language_info": {
   "codemirror_mode": {
    "name": "ipython",
    "version": 3
   },
   "file_extension": ".py",
   "mimetype": "text/x-python",
   "name": "python",
   "nbconvert_exporter": "python",
   "pygments_lexer": "ipython3",
   "version": "3.8.5"
  }
 },
 "nbformat": 4,
 "nbformat_minor": 4
}
